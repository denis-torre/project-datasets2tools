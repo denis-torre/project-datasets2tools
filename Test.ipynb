{
 "cells": [
  {
   "cell_type": "code",
   "execution_count": 11,
   "metadata": {
    "collapsed": false
   },
   "outputs": [],
   "source": [
    "#######################################################\n",
    "########## 1. Setup Web Page ##########################\n",
    "#######################################################\n",
    "\n",
    "##############################\n",
    "##### 1.1 Load Libraries\n",
    "##############################\n",
    "# Python Libraries\n",
    "import sys\n",
    "\n",
    "# Flask Libraries\n",
    "from flask import Flask, request, render_template\n",
    "from flaskext.mysql import MySQL\n",
    "\n",
    "##############################\n",
    "##### 1.2 Setup MySQL\n",
    "##############################\n",
    "# Initialize Flask App\n",
    "app = Flask(__name__)\n",
    "\n",
    "# Initialize MySQL Connection\n",
    "mysql = MySQL()\n",
    "\n",
    "# Configure MySQL Connection\n",
    "app.config['MYSQL_DATABASE_USER'] = 'root'\n",
    "app.config['MYSQL_DATABASE_PASSWORD'] = 'MyNewPass'\n",
    "app.config['MYSQL_DATABASE_DB'] = 'datasets2tools'\n",
    "app.config['MYSQL_DATABASE_HOST'] = 'localhost'\n",
    "mysql.init_app(app)\n"
   ]
  },
  {
   "cell_type": "code",
   "execution_count": 31,
   "metadata": {
    "collapsed": false
   },
   "outputs": [],
   "source": [
    "import pandas as pd"
   ]
  },
  {
   "cell_type": "code",
   "execution_count": 19,
   "metadata": {
    "collapsed": false
   },
   "outputs": [
    {
     "data": {
      "text/html": [
       "<div>\n",
       "<table border=\"1\" class=\"dataframe\">\n",
       "  <thead>\n",
       "    <tr style=\"text-align: right;\">\n",
       "      <th></th>\n",
       "      <th>0</th>\n",
       "      <th>1</th>\n",
       "      <th>2</th>\n",
       "      <th>3</th>\n",
       "      <th>4</th>\n",
       "    </tr>\n",
       "  </thead>\n",
       "  <tbody>\n",
       "    <tr>\n",
       "      <th>0</th>\n",
       "      <td>1</td>\n",
       "      <td>Geo2Enrichr</td>\n",
       "      <td>http://amp.pharm.mssm.edu/g2e/static/image/log...</td>\n",
       "      <td>http://amp.pharm.mssm.edu/g2e/</td>\n",
       "      <td>GEO2Enrichr is a tool for extracting different...</td>\n",
       "    </tr>\n",
       "    <tr>\n",
       "      <th>1</th>\n",
       "      <td>2</td>\n",
       "      <td>Enrichr</td>\n",
       "      <td>http://amp.pharm.mssm.edu/Enrichr/images/enric...</td>\n",
       "      <td>http://amp.pharm.mssm.edu/Enrichr/</td>\n",
       "      <td>Enrichr is an easy to use intuitive enrichment...</td>\n",
       "    </tr>\n",
       "    <tr>\n",
       "      <th>2</th>\n",
       "      <td>3</td>\n",
       "      <td>Clustergrammer</td>\n",
       "      <td>http://amp.pharm.mssm.edu/clustergrammer/stati...</td>\n",
       "      <td>http://amp.pharm.mssm.edu/clustergrammer/</td>\n",
       "      <td>Clustergrammer is a visualization tool that en...</td>\n",
       "    </tr>\n",
       "    <tr>\n",
       "      <th>3</th>\n",
       "      <td>4</td>\n",
       "      <td>L1000CDS2</td>\n",
       "      <td>http://amp.pharm.mssm.edu/L1000CDS2/CSS/images...</td>\n",
       "      <td>http://amp.pharm.mssm.edu/L1000CDS2/</td>\n",
       "      <td>LINCS L1000 characteristic direction signature...</td>\n",
       "    </tr>\n",
       "    <tr>\n",
       "      <th>4</th>\n",
       "      <td>5</td>\n",
       "      <td>Slicr</td>\n",
       "      <td>http://labs.icahn.mssm.edu/maayanlab/wp-conten...</td>\n",
       "      <td>http://amp.pharm.mssm.edu/Slicr</td>\n",
       "      <td>Slicr is a metadata search engine that searche...</td>\n",
       "    </tr>\n",
       "  </tbody>\n",
       "</table>\n",
       "</div>"
      ],
      "text/plain": [
       "   0               1                                                  2  \\\n",
       "0  1     Geo2Enrichr  http://amp.pharm.mssm.edu/g2e/static/image/log...   \n",
       "1  2         Enrichr  http://amp.pharm.mssm.edu/Enrichr/images/enric...   \n",
       "2  3  Clustergrammer  http://amp.pharm.mssm.edu/clustergrammer/stati...   \n",
       "3  4       L1000CDS2  http://amp.pharm.mssm.edu/L1000CDS2/CSS/images...   \n",
       "4  5           Slicr  http://labs.icahn.mssm.edu/maayanlab/wp-conten...   \n",
       "\n",
       "                                           3  \\\n",
       "0             http://amp.pharm.mssm.edu/g2e/   \n",
       "1         http://amp.pharm.mssm.edu/Enrichr/   \n",
       "2  http://amp.pharm.mssm.edu/clustergrammer/   \n",
       "3       http://amp.pharm.mssm.edu/L1000CDS2/   \n",
       "4            http://amp.pharm.mssm.edu/Slicr   \n",
       "\n",
       "                                                   4  \n",
       "0  GEO2Enrichr is a tool for extracting different...  \n",
       "1  Enrichr is an easy to use intuitive enrichment...  \n",
       "2  Clustergrammer is a visualization tool that en...  \n",
       "3  LINCS L1000 characteristic direction signature...  \n",
       "4  Slicr is a metadata search engine that searche...  "
      ]
     },
     "execution_count": 19,
     "metadata": {},
     "output_type": "execute_result"
    }
   ],
   "source": [
    "pandas.DataFrame(list(results))"
   ]
  },
  {
   "cell_type": "code",
   "execution_count": 27,
   "metadata": {
    "collapsed": false
   },
   "outputs": [
    {
     "data": {
      "text/plain": [
       "((u'id', 3, None, 11, 11, 0, False),\n",
       " (u'name', 253, None, 20, 20, 0, False),\n",
       " (u'icon_url', 253, None, 100, 100, 0, False),\n",
       " (u'tool_url', 253, None, 100, 100, 0, False),\n",
       " (u'description', 252, None, 196605, 196605, 0, True))"
      ]
     },
     "execution_count": 27,
     "metadata": {},
     "output_type": "execute_result"
    }
   ],
   "source": [
    "cursor.description"
   ]
  },
  {
   "cell_type": "code",
   "execution_count": 33,
   "metadata": {
    "collapsed": false
   },
   "outputs": [],
   "source": [
    "def executeQuery(query, mysql_engine):\n",
    "\t\n",
    "\t# Create cursor\n",
    "\tcursor = mysql_engine.connect().cursor()\n",
    "\n",
    "\t# Call procedure\n",
    "\tcursor.execute(query)\n",
    "\n",
    "\t# Get field names\n",
    "\tfield_names = [x[0] for x in cursor.description]\n",
    "\n",
    "\t# Get search results\n",
    "\tquery_results = cursor.fetchall()\n",
    "\n",
    "\t# Get query result dataframe\n",
    "\tquery_result_dataframe = pd.DataFrame(list(query_results), columns = field_names)\n",
    "\n",
    "\t# Return result\n",
    "\treturn query_result_dataframe"
   ]
  },
  {
   "cell_type": "code",
   "execution_count": 35,
   "metadata": {
    "collapsed": false
   },
   "outputs": [
    {
     "data": {
      "text/html": [
       "<div>\n",
       "<table border=\"1\" class=\"dataframe\">\n",
       "  <thead>\n",
       "    <tr style=\"text-align: right;\">\n",
       "      <th></th>\n",
       "      <th>id</th>\n",
       "      <th>name</th>\n",
       "      <th>icon_url</th>\n",
       "      <th>tool_url</th>\n",
       "      <th>description</th>\n",
       "    </tr>\n",
       "  </thead>\n",
       "  <tbody>\n",
       "    <tr>\n",
       "      <th>0</th>\n",
       "      <td>1</td>\n",
       "      <td>Geo2Enrichr</td>\n",
       "      <td>http://amp.pharm.mssm.edu/g2e/static/image/log...</td>\n",
       "      <td>http://amp.pharm.mssm.edu/g2e/</td>\n",
       "      <td>GEO2Enrichr is a tool for extracting different...</td>\n",
       "    </tr>\n",
       "    <tr>\n",
       "      <th>1</th>\n",
       "      <td>2</td>\n",
       "      <td>Enrichr</td>\n",
       "      <td>http://amp.pharm.mssm.edu/Enrichr/images/enric...</td>\n",
       "      <td>http://amp.pharm.mssm.edu/Enrichr/</td>\n",
       "      <td>Enrichr is an easy to use intuitive enrichment...</td>\n",
       "    </tr>\n",
       "    <tr>\n",
       "      <th>2</th>\n",
       "      <td>3</td>\n",
       "      <td>Clustergrammer</td>\n",
       "      <td>http://amp.pharm.mssm.edu/clustergrammer/stati...</td>\n",
       "      <td>http://amp.pharm.mssm.edu/clustergrammer/</td>\n",
       "      <td>Clustergrammer is a visualization tool that en...</td>\n",
       "    </tr>\n",
       "    <tr>\n",
       "      <th>3</th>\n",
       "      <td>4</td>\n",
       "      <td>L1000CDS2</td>\n",
       "      <td>http://amp.pharm.mssm.edu/L1000CDS2/CSS/images...</td>\n",
       "      <td>http://amp.pharm.mssm.edu/L1000CDS2/</td>\n",
       "      <td>LINCS L1000 characteristic direction signature...</td>\n",
       "    </tr>\n",
       "    <tr>\n",
       "      <th>4</th>\n",
       "      <td>5</td>\n",
       "      <td>Slicr</td>\n",
       "      <td>http://labs.icahn.mssm.edu/maayanlab/wp-conten...</td>\n",
       "      <td>http://amp.pharm.mssm.edu/Slicr</td>\n",
       "      <td>Slicr is a metadata search engine that searche...</td>\n",
       "    </tr>\n",
       "  </tbody>\n",
       "</table>\n",
       "</div>"
      ],
      "text/plain": [
       "   id            name                                           icon_url  \\\n",
       "0   1     Geo2Enrichr  http://amp.pharm.mssm.edu/g2e/static/image/log...   \n",
       "1   2         Enrichr  http://amp.pharm.mssm.edu/Enrichr/images/enric...   \n",
       "2   3  Clustergrammer  http://amp.pharm.mssm.edu/clustergrammer/stati...   \n",
       "3   4       L1000CDS2  http://amp.pharm.mssm.edu/L1000CDS2/CSS/images...   \n",
       "4   5           Slicr  http://labs.icahn.mssm.edu/maayanlab/wp-conten...   \n",
       "\n",
       "                                    tool_url  \\\n",
       "0             http://amp.pharm.mssm.edu/g2e/   \n",
       "1         http://amp.pharm.mssm.edu/Enrichr/   \n",
       "2  http://amp.pharm.mssm.edu/clustergrammer/   \n",
       "3       http://amp.pharm.mssm.edu/L1000CDS2/   \n",
       "4            http://amp.pharm.mssm.edu/Slicr   \n",
       "\n",
       "                                         description  \n",
       "0  GEO2Enrichr is a tool for extracting different...  \n",
       "1  Enrichr is an easy to use intuitive enrichment...  \n",
       "2  Clustergrammer is a visualization tool that en...  \n",
       "3  LINCS L1000 characteristic direction signature...  \n",
       "4  Slicr is a metadata search engine that searche...  "
      ]
     },
     "execution_count": 35,
     "metadata": {},
     "output_type": "execute_result"
    }
   ],
   "source": [
    "tool_dataframe = executeQuery('select * from tool', mysql)\n",
    "tool_dataframe.head()"
   ]
  },
  {
   "cell_type": "code",
   "execution_count": 36,
   "metadata": {
    "collapsed": false
   },
   "outputs": [
    {
     "name": "stdout",
     "output_type": "stream",
     "text": [
      "http://amp.pharm.mssm.edu/g2e/static/image/logo-50x50.png Geo2Enrichr\n",
      "http://amp.pharm.mssm.edu/Enrichr/images/enrichr-icon.png Enrichr\n",
      "http://amp.pharm.mssm.edu/clustergrammer/static/icons/graham_cracker_70.png Clustergrammer\n",
      "http://amp.pharm.mssm.edu/L1000CDS2/CSS/images/sigine.png L1000CDS2\n",
      "http://labs.icahn.mssm.edu/maayanlab/wp-content/uploads/sites/75/2014/10/slicr2.fw_.png Slicr\n"
     ]
    }
   ],
   "source": [
    "for icon, name in tool_dataframe[['icon_url', 'name']].as_matrix():\n",
    "    print icon, name"
   ]
  },
  {
   "cell_type": "code",
   "execution_count": null,
   "metadata": {
    "collapsed": true
   },
   "outputs": [],
   "source": []
  }
 ],
 "metadata": {
  "kernelspec": {
   "display_name": "Python 2",
   "language": "python",
   "name": "python2"
  },
  "language_info": {
   "codemirror_mode": {
    "name": "ipython",
    "version": 2
   },
   "file_extension": ".py",
   "mimetype": "text/x-python",
   "name": "python",
   "nbconvert_exporter": "python",
   "pygments_lexer": "ipython2",
   "version": "2.7.10"
  }
 },
 "nbformat": 4,
 "nbformat_minor": 1
}
