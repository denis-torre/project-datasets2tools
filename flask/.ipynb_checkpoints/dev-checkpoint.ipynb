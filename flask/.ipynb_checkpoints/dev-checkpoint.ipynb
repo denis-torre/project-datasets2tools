{
 "cells": [
  {
   "cell_type": "code",
   "execution_count": 2,
   "metadata": {
    "collapsed": true
   },
   "outputs": [],
   "source": [
    "############################################################\n",
    "############################################################\n",
    "############### Datasets2Tools Jupyter Notebook ############\n",
    "############################################################\n",
    "############################################################\n",
    "\n",
    "#######################################################\n",
    "########## 1. Setup Web Page ##########################\n",
    "#######################################################\n",
    "\n",
    "##############################\n",
    "##### 1.1 Python Libraries\n",
    "##############################\n",
    "import sys\n",
    "import pandas as pd\n",
    "from flask import Flask, request, render_template\n",
    "\n",
    "##############################\n",
    "##### 1.2 Custom Libraries\n",
    "##############################\n",
    "sys.path.append('static/lib')\n",
    "from dbConnection import *\n",
    "from chromeExtensionAPI import *\n",
    "from dataSubmissionAPI import *\n",
    "\n",
    "##############################\n",
    "##### 1.3 Setup App\n",
    "##############################\n",
    "# Initialize Flask App\n",
    "app = Flask(__name__)\n",
    "\n",
    "# Connect to MySQL\n",
    "app, mysql = setupLocalMySQLConnection(app)"
   ]
  },
  {
   "cell_type": "code",
   "execution_count": 39,
   "metadata": {
    "collapsed": false
   },
   "outputs": [
    {
     "data": {
      "text/plain": [
       "<module 'dataSubmissionAPI' from 'static/lib/dataSubmissionAPI.py'>"
      ]
     },
     "execution_count": 39,
     "metadata": {},
     "output_type": "execute_result"
    }
   ],
   "source": [
    "import dataSubmissionAPI as d\n",
    "reload(d)"
   ]
  },
  {
   "cell_type": "code",
   "execution_count": 41,
   "metadata": {
    "collapsed": false
   },
   "outputs": [
    {
     "ename": "NameError",
     "evalue": "global name 'mysql' is not defined",
     "output_type": "error",
     "traceback": [
      "\u001b[0;31m---------------------------------------------------------------------------\u001b[0m",
      "\u001b[0;31mNameError\u001b[0m                                 Traceback (most recent call last)",
      "\u001b[0;32m<ipython-input-41-538bc52591da>\u001b[0m in \u001b[0;36m<module>\u001b[0;34m()\u001b[0m\n\u001b[0;32m----> 1\u001b[0;31m \u001b[0md\u001b[0m\u001b[0;34m.\u001b[0m\u001b[0mfindIds\u001b[0m\u001b[0;34m(\u001b[0m\u001b[0;34m'Enrichr'\u001b[0m\u001b[0;34m,\u001b[0m \u001b[0;34m'tool'\u001b[0m\u001b[0;34m)\u001b[0m\u001b[0;34m\u001b[0m\u001b[0m\n\u001b[0m",
      "\u001b[0;32m/Users/denis/Documents/Projects/datasets2tools/project-datasets2tools-website/flask/static/lib/dataSubmissionAPI.py\u001b[0m in \u001b[0;36mfindIds\u001b[0;34m(nameList, tableName)\u001b[0m\n\u001b[1;32m     47\u001b[0m \u001b[0;34m\u001b[0m\u001b[0m\n\u001b[1;32m     48\u001b[0m         \u001b[0;31m# Get Dataset ID dataframe\u001b[0m\u001b[0;34m\u001b[0m\u001b[0;34m\u001b[0m\u001b[0m\n\u001b[0;32m---> 49\u001b[0;31m         \u001b[0midDataframe\u001b[0m \u001b[0;34m=\u001b[0m \u001b[0mexecuteQuery\u001b[0m\u001b[0;34m(\u001b[0m\u001b[0mqueryStatement\u001b[0m\u001b[0;34m,\u001b[0m \u001b[0mmysql\u001b[0m\u001b[0;34m)\u001b[0m\u001b[0;34m.\u001b[0m\u001b[0mset_index\u001b[0m\u001b[0;34m(\u001b[0m\u001b[0mdataframeIndex\u001b[0m\u001b[0;34m)\u001b[0m\u001b[0;34m\u001b[0m\u001b[0m\n\u001b[0m\u001b[1;32m     50\u001b[0m \u001b[0;34m\u001b[0m\u001b[0m\n\u001b[1;32m     51\u001b[0m         \u001b[0;31m# Convert to dict\u001b[0m\u001b[0;34m\u001b[0m\u001b[0;34m\u001b[0m\u001b[0m\n",
      "\u001b[0;31mNameError\u001b[0m: global name 'mysql' is not defined"
     ]
    }
   ],
   "source": [
    "d.findIds('Enrichr', 'tool', mysql)"
   ]
  },
  {
   "cell_type": "code",
   "execution_count": null,
   "metadata": {
    "collapsed": true
   },
   "outputs": [],
   "source": []
  }
 ],
 "metadata": {
  "kernelspec": {
   "display_name": "Python 2",
   "language": "python",
   "name": "python2"
  },
  "language_info": {
   "codemirror_mode": {
    "name": "ipython",
    "version": 2
   },
   "file_extension": ".py",
   "mimetype": "text/x-python",
   "name": "python",
   "nbconvert_exporter": "python",
   "pygments_lexer": "ipython2",
   "version": "2.7.10"
  }
 },
 "nbformat": 4,
 "nbformat_minor": 1
}
